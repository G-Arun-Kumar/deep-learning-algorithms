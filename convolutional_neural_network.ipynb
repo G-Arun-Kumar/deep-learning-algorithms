{
 "cells": [
  {
   "cell_type": "markdown",
   "id": "6e7f2f6c-e376-4f62-936e-76be59bdeec9",
   "metadata": {},
   "source": [
    "## Convolutional neural network"
   ]
  },
  {
   "cell_type": "markdown",
   "id": "7135752f-9b36-40ee-b12b-0d472675520b",
   "metadata": {},
   "source": [
    "## Import required libraries"
   ]
  },
  {
   "cell_type": "code",
   "execution_count": 1,
   "id": "9c8ed423-923a-428b-96db-f500ab400ce7",
   "metadata": {},
   "outputs": [],
   "source": [
    "import numpy as np\n",
    "import tensorflow as tf"
   ]
  },
  {
   "cell_type": "code",
   "execution_count": 2,
   "id": "7ebb3b67-2cc4-4b16-bcc3-cda1052d887a",
   "metadata": {},
   "outputs": [
    {
     "data": {
      "text/plain": [
       "'2.18.0'"
      ]
     },
     "execution_count": 2,
     "metadata": {},
     "output_type": "execute_result"
    }
   ],
   "source": [
    "tf.__version__"
   ]
  },
  {
   "cell_type": "markdown",
   "id": "5853c6c4-1be6-4ef2-9b44-ef42832b498e",
   "metadata": {},
   "source": [
    "## Data Preprocessing"
   ]
  },
  {
   "cell_type": "code",
   "execution_count": 3,
   "id": "64c4f800-e690-43df-b8fa-0d155aec7c04",
   "metadata": {},
   "outputs": [],
   "source": [
    "# Data Preprocessing\n",
    "\n",
    "from tensorflow.keras.preprocessing.image import ImageDataGenerator"
   ]
  },
  {
   "cell_type": "code",
   "execution_count": 4,
   "id": "a0f024c8-b70d-4bc7-b5be-df85e20f7bae",
   "metadata": {},
   "outputs": [],
   "source": [
    "train_generate = ImageDataGenerator(rescale=1/255,zoom_range=0.2, shear_range=0.2, horizontal_flip=True)"
   ]
  },
  {
   "cell_type": "code",
   "execution_count": 5,
   "id": "4db7bfa4-1999-4fbb-8ec8-2e1a76f3f73e",
   "metadata": {},
   "outputs": [
    {
     "name": "stdout",
     "output_type": "stream",
     "text": [
      "Found 8000 images belonging to 2 classes.\n"
     ]
    }
   ],
   "source": [
    "train_set = train_generate.flow_from_directory(r'E:\\Study\\AI\\Data Science\\Machine Learning\\Machine Learning A-Z\\Materials\\CNN_dataset\\dataset\\training_set',\n",
    "                                   batch_size=32,\n",
    "                                   target_size=(64,64),\n",
    "                                   class_mode='binary'\n",
    "                                  )"
   ]
  },
  {
   "cell_type": "code",
   "execution_count": 6,
   "id": "7df2e827-c7b4-4cd8-b9f1-e983e07daf14",
   "metadata": {},
   "outputs": [
    {
     "name": "stdout",
     "output_type": "stream",
     "text": [
      "Found 2000 images belonging to 2 classes.\n"
     ]
    }
   ],
   "source": [
    "test_generate = ImageDataGenerator(rescale=1/255)\n",
    "\n",
    "test_set = test_generate.flow_from_directory(r'E:\\Study\\AI\\Data Science\\Machine Learning\\Machine Learning A-Z\\Materials\\CNN_dataset\\dataset\\test_set',\n",
    "                                   batch_size=32,\n",
    "                                   target_size=(64,64),\n",
    "                                   class_mode='binary'\n",
    "                                  )"
   ]
  },
  {
   "cell_type": "markdown",
   "id": "71b22fb8-fb20-4d71-9ab5-a7fa0f93fd73",
   "metadata": {},
   "source": [
    "## Building the CNN"
   ]
  },
  {
   "cell_type": "code",
   "execution_count": 7,
   "id": "6296f712-14dc-481e-81dc-66d226adc2be",
   "metadata": {},
   "outputs": [],
   "source": [
    "cnn = tf.keras.models.Sequential()"
   ]
  },
  {
   "cell_type": "markdown",
   "id": "850d1de1-e14f-4541-a79a-b78021a41ed2",
   "metadata": {},
   "source": [
    "## Build the Convolution layer"
   ]
  },
  {
   "cell_type": "code",
   "execution_count": 8,
   "id": "f1d7e044-310c-4def-a3da-fb6e6003d2bd",
   "metadata": {},
   "outputs": [
    {
     "name": "stderr",
     "output_type": "stream",
     "text": [
      "C:\\Users\\Arun Kumar\\AppData\\Roaming\\Python\\Python312\\site-packages\\keras\\src\\layers\\convolutional\\base_conv.py:107: UserWarning: Do not pass an `input_shape`/`input_dim` argument to a layer. When using Sequential models, prefer using an `Input(shape)` object as the first layer in the model instead.\n",
      "  super().__init__(activity_regularizer=activity_regularizer, **kwargs)\n"
     ]
    }
   ],
   "source": [
    "cnn.add(tf.keras.layers.Conv2D(filters=32, kernel_size=3, activation='relu',input_shape=[64,64,3]))"
   ]
  },
  {
   "cell_type": "markdown",
   "id": "98431432-7d1d-49bb-a1ed-3c04655dcbaa",
   "metadata": {},
   "source": [
    "## Build the max pooling layer"
   ]
  },
  {
   "cell_type": "code",
   "execution_count": 9,
   "id": "8cb1b790-fc7d-46d4-9095-85194f9e7795",
   "metadata": {},
   "outputs": [],
   "source": [
    "cnn.add(tf.keras.layers.MaxPool2D(pool_size=3, strides=2))"
   ]
  },
  {
   "cell_type": "markdown",
   "id": "3c6aa023-e8b0-4ffd-8b17-f966810d7ce9",
   "metadata": {},
   "source": [
    "## Building the second convolution layer"
   ]
  },
  {
   "cell_type": "code",
   "execution_count": 10,
   "id": "30ba604e-425c-4099-897d-fc0ec20006e8",
   "metadata": {},
   "outputs": [],
   "source": [
    "cnn.add(tf.keras.layers.Conv2D(filters=32, kernel_size=3, strides=2, activation='relu'))\n",
    "cnn.add(tf.keras.layers.MaxPool2D(pool_size=3, strides=2))"
   ]
  },
  {
   "cell_type": "markdown",
   "id": "bae396f5-aceb-44e7-a1a6-d94b5b9f2157",
   "metadata": {},
   "source": [
    "## Flatten the layer"
   ]
  },
  {
   "cell_type": "code",
   "execution_count": 11,
   "id": "a5905271-8af0-4c80-b4c2-bc7599d25426",
   "metadata": {},
   "outputs": [],
   "source": [
    "cnn.add(tf.keras.layers.Flatten())"
   ]
  },
  {
   "cell_type": "markdown",
   "id": "a07c1944-2450-4c4a-885a-99643544e357",
   "metadata": {},
   "source": [
    "## Implementing the full connection"
   ]
  },
  {
   "cell_type": "code",
   "execution_count": 12,
   "id": "659f623e-8fe8-4b81-833f-49a358fbc242",
   "metadata": {},
   "outputs": [],
   "source": [
    "cnn.add(tf.keras.layers.Dense(units=128, activation='relu'))"
   ]
  },
  {
   "cell_type": "markdown",
   "id": "ba7a605d-ce28-44ad-b43b-dc343ad0e17b",
   "metadata": {},
   "source": [
    "## Implementing the output layer"
   ]
  },
  {
   "cell_type": "code",
   "execution_count": 13,
   "id": "49b3dc25-ef55-4c5a-a650-991142fb84f5",
   "metadata": {},
   "outputs": [],
   "source": [
    "cnn.add(tf.keras.layers.Dense(units=1, activation='sigmoid'))"
   ]
  },
  {
   "cell_type": "markdown",
   "id": "51d42a1e-eac2-46b4-abd2-090c3a42d08d",
   "metadata": {},
   "source": [
    "## Training the CNN"
   ]
  },
  {
   "cell_type": "markdown",
   "id": "101ca607-9323-4bb6-bded-a9d7699a79db",
   "metadata": {},
   "source": [
    "## Compiling the CNN"
   ]
  },
  {
   "cell_type": "code",
   "execution_count": 14,
   "id": "aab3c66c-4ec3-4a0c-b511-8e9244ff57aa",
   "metadata": {},
   "outputs": [],
   "source": [
    "cnn.compile(optimizer='adam',loss='binary_crossentropy', metrics=['accuracy'])"
   ]
  },
  {
   "cell_type": "markdown",
   "id": "ac147e90-45cd-4754-8367-c7e50a101345",
   "metadata": {},
   "source": [
    "## Train the compiled CNN layer"
   ]
  },
  {
   "cell_type": "code",
   "execution_count": 15,
   "id": "d3eb477d-5a5b-4a84-8250-075e1e312f6c",
   "metadata": {},
   "outputs": [
    {
     "name": "stderr",
     "output_type": "stream",
     "text": [
      "C:\\Users\\Arun Kumar\\AppData\\Roaming\\Python\\Python312\\site-packages\\keras\\src\\trainers\\data_adapters\\py_dataset_adapter.py:121: UserWarning: Your `PyDataset` class should call `super().__init__(**kwargs)` in its constructor. `**kwargs` can include `workers`, `use_multiprocessing`, `max_queue_size`. Do not pass these arguments to `fit()`, as they will be ignored.\n",
      "  self._warn_if_super_not_called()\n"
     ]
    },
    {
     "name": "stdout",
     "output_type": "stream",
     "text": [
      "Epoch 1/25\n",
      "\u001b[1m250/250\u001b[0m \u001b[32m━━━━━━━━━━━━━━━━━━━━\u001b[0m\u001b[37m\u001b[0m \u001b[1m0s\u001b[0m 906ms/step - accuracy: 0.5395 - loss: 0.6812"
     ]
    },
    {
     "name": "stderr",
     "output_type": "stream",
     "text": [
      "C:\\Users\\Arun Kumar\\AppData\\Roaming\\Python\\Python312\\site-packages\\keras\\src\\trainers\\data_adapters\\py_dataset_adapter.py:121: UserWarning: Your `PyDataset` class should call `super().__init__(**kwargs)` in its constructor. `**kwargs` can include `workers`, `use_multiprocessing`, `max_queue_size`. Do not pass these arguments to `fit()`, as they will be ignored.\n",
      "  self._warn_if_super_not_called()\n"
     ]
    },
    {
     "name": "stdout",
     "output_type": "stream",
     "text": [
      "\u001b[1m250/250\u001b[0m \u001b[32m━━━━━━━━━━━━━━━━━━━━\u001b[0m\u001b[37m\u001b[0m \u001b[1m258s\u001b[0m 1s/step - accuracy: 0.5397 - loss: 0.6811 - val_accuracy: 0.6060 - val_loss: 0.6442\n",
      "Epoch 2/25\n",
      "\u001b[1m250/250\u001b[0m \u001b[32m━━━━━━━━━━━━━━━━━━━━\u001b[0m\u001b[37m\u001b[0m \u001b[1m96s\u001b[0m 383ms/step - accuracy: 0.6802 - loss: 0.6027 - val_accuracy: 0.7060 - val_loss: 0.5794\n",
      "Epoch 3/25\n",
      "\u001b[1m250/250\u001b[0m \u001b[32m━━━━━━━━━━━━━━━━━━━━\u001b[0m\u001b[37m\u001b[0m \u001b[1m81s\u001b[0m 326ms/step - accuracy: 0.7235 - loss: 0.5392 - val_accuracy: 0.7290 - val_loss: 0.5467\n",
      "Epoch 4/25\n",
      "\u001b[1m250/250\u001b[0m \u001b[32m━━━━━━━━━━━━━━━━━━━━\u001b[0m\u001b[37m\u001b[0m \u001b[1m47s\u001b[0m 188ms/step - accuracy: 0.7328 - loss: 0.5189 - val_accuracy: 0.7620 - val_loss: 0.4993\n",
      "Epoch 5/25\n",
      "\u001b[1m250/250\u001b[0m \u001b[32m━━━━━━━━━━━━━━━━━━━━\u001b[0m\u001b[37m\u001b[0m \u001b[1m52s\u001b[0m 209ms/step - accuracy: 0.7488 - loss: 0.5061 - val_accuracy: 0.7570 - val_loss: 0.5113\n",
      "Epoch 6/25\n",
      "\u001b[1m250/250\u001b[0m \u001b[32m━━━━━━━━━━━━━━━━━━━━\u001b[0m\u001b[37m\u001b[0m \u001b[1m38s\u001b[0m 154ms/step - accuracy: 0.7561 - loss: 0.5033 - val_accuracy: 0.7820 - val_loss: 0.4626\n",
      "Epoch 7/25\n",
      "\u001b[1m250/250\u001b[0m \u001b[32m━━━━━━━━━━━━━━━━━━━━\u001b[0m\u001b[37m\u001b[0m \u001b[1m38s\u001b[0m 151ms/step - accuracy: 0.7713 - loss: 0.4769 - val_accuracy: 0.7865 - val_loss: 0.4727\n",
      "Epoch 8/25\n",
      "\u001b[1m250/250\u001b[0m \u001b[32m━━━━━━━━━━━━━━━━━━━━\u001b[0m\u001b[37m\u001b[0m \u001b[1m52s\u001b[0m 210ms/step - accuracy: 0.7749 - loss: 0.4719 - val_accuracy: 0.7765 - val_loss: 0.4868\n",
      "Epoch 9/25\n",
      "\u001b[1m250/250\u001b[0m \u001b[32m━━━━━━━━━━━━━━━━━━━━\u001b[0m\u001b[37m\u001b[0m \u001b[1m38s\u001b[0m 153ms/step - accuracy: 0.7931 - loss: 0.4481 - val_accuracy: 0.7815 - val_loss: 0.4684\n",
      "Epoch 10/25\n",
      "\u001b[1m250/250\u001b[0m \u001b[32m━━━━━━━━━━━━━━━━━━━━\u001b[0m\u001b[37m\u001b[0m \u001b[1m37s\u001b[0m 147ms/step - accuracy: 0.7792 - loss: 0.4574 - val_accuracy: 0.7785 - val_loss: 0.4814\n",
      "Epoch 11/25\n",
      "\u001b[1m250/250\u001b[0m \u001b[32m━━━━━━━━━━━━━━━━━━━━\u001b[0m\u001b[37m\u001b[0m \u001b[1m48s\u001b[0m 194ms/step - accuracy: 0.7926 - loss: 0.4373 - val_accuracy: 0.7920 - val_loss: 0.4622\n",
      "Epoch 12/25\n",
      "\u001b[1m250/250\u001b[0m \u001b[32m━━━━━━━━━━━━━━━━━━━━\u001b[0m\u001b[37m\u001b[0m \u001b[1m51s\u001b[0m 204ms/step - accuracy: 0.7983 - loss: 0.4229 - val_accuracy: 0.7715 - val_loss: 0.4808\n",
      "Epoch 13/25\n",
      "\u001b[1m250/250\u001b[0m \u001b[32m━━━━━━━━━━━━━━━━━━━━\u001b[0m\u001b[37m\u001b[0m \u001b[1m46s\u001b[0m 184ms/step - accuracy: 0.8000 - loss: 0.4209 - val_accuracy: 0.7980 - val_loss: 0.4297\n",
      "Epoch 14/25\n",
      "\u001b[1m250/250\u001b[0m \u001b[32m━━━━━━━━━━━━━━━━━━━━\u001b[0m\u001b[37m\u001b[0m \u001b[1m53s\u001b[0m 210ms/step - accuracy: 0.8127 - loss: 0.4047 - val_accuracy: 0.8070 - val_loss: 0.4365\n",
      "Epoch 15/25\n",
      "\u001b[1m250/250\u001b[0m \u001b[32m━━━━━━━━━━━━━━━━━━━━\u001b[0m\u001b[37m\u001b[0m \u001b[1m42s\u001b[0m 168ms/step - accuracy: 0.8070 - loss: 0.4136 - val_accuracy: 0.7985 - val_loss: 0.4570\n",
      "Epoch 16/25\n",
      "\u001b[1m250/250\u001b[0m \u001b[32m━━━━━━━━━━━━━━━━━━━━\u001b[0m\u001b[37m\u001b[0m \u001b[1m50s\u001b[0m 200ms/step - accuracy: 0.8278 - loss: 0.3893 - val_accuracy: 0.7000 - val_loss: 0.6561\n",
      "Epoch 17/25\n",
      "\u001b[1m250/250\u001b[0m \u001b[32m━━━━━━━━━━━━━━━━━━━━\u001b[0m\u001b[37m\u001b[0m \u001b[1m54s\u001b[0m 215ms/step - accuracy: 0.8117 - loss: 0.4028 - val_accuracy: 0.8020 - val_loss: 0.4746\n",
      "Epoch 18/25\n",
      "\u001b[1m250/250\u001b[0m \u001b[32m━━━━━━━━━━━━━━━━━━━━\u001b[0m\u001b[37m\u001b[0m \u001b[1m51s\u001b[0m 205ms/step - accuracy: 0.8182 - loss: 0.3929 - val_accuracy: 0.8020 - val_loss: 0.4378\n",
      "Epoch 19/25\n",
      "\u001b[1m250/250\u001b[0m \u001b[32m━━━━━━━━━━━━━━━━━━━━\u001b[0m\u001b[37m\u001b[0m \u001b[1m39s\u001b[0m 157ms/step - accuracy: 0.8240 - loss: 0.3793 - val_accuracy: 0.8225 - val_loss: 0.4160\n",
      "Epoch 20/25\n",
      "\u001b[1m250/250\u001b[0m \u001b[32m━━━━━━━━━━━━━━━━━━━━\u001b[0m\u001b[37m\u001b[0m \u001b[1m47s\u001b[0m 188ms/step - accuracy: 0.8285 - loss: 0.3728 - val_accuracy: 0.8120 - val_loss: 0.4354\n",
      "Epoch 21/25\n",
      "\u001b[1m250/250\u001b[0m \u001b[32m━━━━━━━━━━━━━━━━━━━━\u001b[0m\u001b[37m\u001b[0m \u001b[1m49s\u001b[0m 197ms/step - accuracy: 0.8396 - loss: 0.3560 - val_accuracy: 0.7900 - val_loss: 0.4903\n",
      "Epoch 22/25\n",
      "\u001b[1m250/250\u001b[0m \u001b[32m━━━━━━━━━━━━━━━━━━━━\u001b[0m\u001b[37m\u001b[0m \u001b[1m50s\u001b[0m 201ms/step - accuracy: 0.8433 - loss: 0.3516 - val_accuracy: 0.8210 - val_loss: 0.4294\n",
      "Epoch 23/25\n",
      "\u001b[1m250/250\u001b[0m \u001b[32m━━━━━━━━━━━━━━━━━━━━\u001b[0m\u001b[37m\u001b[0m \u001b[1m53s\u001b[0m 212ms/step - accuracy: 0.8441 - loss: 0.3497 - val_accuracy: 0.7820 - val_loss: 0.4964\n",
      "Epoch 24/25\n",
      "\u001b[1m250/250\u001b[0m \u001b[32m━━━━━━━━━━━━━━━━━━━━\u001b[0m\u001b[37m\u001b[0m \u001b[1m82s\u001b[0m 327ms/step - accuracy: 0.8503 - loss: 0.3370 - val_accuracy: 0.8035 - val_loss: 0.4604\n",
      "Epoch 25/25\n",
      "\u001b[1m250/250\u001b[0m \u001b[32m━━━━━━━━━━━━━━━━━━━━\u001b[0m\u001b[37m\u001b[0m \u001b[1m109s\u001b[0m 434ms/step - accuracy: 0.8381 - loss: 0.3473 - val_accuracy: 0.8180 - val_loss: 0.4171\n"
     ]
    },
    {
     "data": {
      "text/plain": [
       "<keras.src.callbacks.history.History at 0x1841e28e240>"
      ]
     },
     "execution_count": 15,
     "metadata": {},
     "output_type": "execute_result"
    }
   ],
   "source": [
    "cnn.fit(x=train_set, validation_data=test_set, epochs=25)"
   ]
  },
  {
   "cell_type": "markdown",
   "id": "3b588c06-2700-4ae4-93a5-60480deac5dc",
   "metadata": {},
   "source": [
    "## Test the CNN"
   ]
  },
  {
   "cell_type": "markdown",
   "id": "8d7ecf75-a286-4cef-b025-3f5243618345",
   "metadata": {},
   "source": [
    "## Making a single prediction"
   ]
  },
  {
   "cell_type": "code",
   "execution_count": 16,
   "id": "8c9a87c1-ff65-4e1a-910a-7980099a5f56",
   "metadata": {},
   "outputs": [
    {
     "name": "stdout",
     "output_type": "stream",
     "text": [
      "\u001b[1m1/1\u001b[0m \u001b[32m━━━━━━━━━━━━━━━━━━━━\u001b[0m\u001b[37m\u001b[0m \u001b[1m0s\u001b[0m 121ms/step\n"
     ]
    }
   ],
   "source": [
    "import numpy as np\n",
    "from keras.preprocessing import image\n",
    "test_image = image.load_img(r'E:\\Study\\AI\\Data Science\\Machine Learning\\Machine Learning A-Z\\Materials\\CNN_dataset\\dataset\\test_set\\cats\\cat.4001.jpg', target_size = (64, 64))\n",
    "test_image = image.img_to_array(test_image)\n",
    "test_image = np.expand_dims(test_image, axis = 0)\n",
    "result = cnn.predict(test_image)\n",
    "train_set.class_indices\n",
    "if result[0][0] == 1:\n",
    "  prediction = 'dog'\n",
    "else:\n",
    "  prediction = 'cat'"
   ]
  },
  {
   "cell_type": "code",
   "execution_count": 17,
   "id": "7330d62b-c441-4626-88a1-d768914fc141",
   "metadata": {},
   "outputs": [
    {
     "name": "stdout",
     "output_type": "stream",
     "text": [
      "dog\n"
     ]
    }
   ],
   "source": [
    "print(prediction)"
   ]
  },
  {
   "cell_type": "code",
   "execution_count": null,
   "id": "8422b976-be46-4fb2-ada5-4cb8305ffdc0",
   "metadata": {},
   "outputs": [],
   "source": []
  }
 ],
 "metadata": {
  "kernelspec": {
   "display_name": "base",
   "language": "python",
   "name": "python3"
  },
  "language_info": {
   "codemirror_mode": {
    "name": "ipython",
    "version": 3
   },
   "file_extension": ".py",
   "mimetype": "text/x-python",
   "name": "python",
   "nbconvert_exporter": "python",
   "pygments_lexer": "ipython3",
   "version": "3.12.4"
  }
 },
 "nbformat": 4,
 "nbformat_minor": 5
}
